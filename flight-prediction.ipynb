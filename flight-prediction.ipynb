{
 "cells": [
  {
   "cell_type": "code",
   "execution_count": 1,
   "id": "2ab96f40",
   "metadata": {},
   "outputs": [],
   "source": [
    "import numpy as np\n",
    "import pandas as pd\n",
    "import seaborn as sns\n",
    "import matplotlib as plt"
   ]
  },
  {
   "cell_type": "code",
   "execution_count": 5,
   "id": "c1f3bcc2",
   "metadata": {},
   "outputs": [
    {
     "data": {
      "text/plain": [
       "(107833, 10)"
      ]
     },
     "execution_count": 5,
     "metadata": {},
     "output_type": "execute_result"
    }
   ],
   "source": [
    "df_train = pd.read_csv(\"data/Train.csv\")\n",
    "df_train.shape"
   ]
  },
  {
   "cell_type": "code",
   "execution_count": 6,
   "id": "f96fc452",
   "metadata": {},
   "outputs": [
    {
     "data": {
      "text/html": [
       "<div>\n",
       "<style scoped>\n",
       "    .dataframe tbody tr th:only-of-type {\n",
       "        vertical-align: middle;\n",
       "    }\n",
       "\n",
       "    .dataframe tbody tr th {\n",
       "        vertical-align: top;\n",
       "    }\n",
       "\n",
       "    .dataframe thead th {\n",
       "        text-align: right;\n",
       "    }\n",
       "</style>\n",
       "<table border=\"1\" class=\"dataframe\">\n",
       "  <thead>\n",
       "    <tr style=\"text-align: right;\">\n",
       "      <th></th>\n",
       "      <th>ID</th>\n",
       "      <th>DATOP</th>\n",
       "      <th>FLTID</th>\n",
       "      <th>DEPSTN</th>\n",
       "      <th>ARRSTN</th>\n",
       "      <th>STD</th>\n",
       "      <th>STA</th>\n",
       "      <th>STATUS</th>\n",
       "      <th>AC</th>\n",
       "      <th>target</th>\n",
       "    </tr>\n",
       "  </thead>\n",
       "  <tbody>\n",
       "    <tr>\n",
       "      <th>0</th>\n",
       "      <td>train_id_0</td>\n",
       "      <td>2016-01-03</td>\n",
       "      <td>TU 0712</td>\n",
       "      <td>CMN</td>\n",
       "      <td>TUN</td>\n",
       "      <td>2016-01-03 10:30:00</td>\n",
       "      <td>2016-01-03 12.55.00</td>\n",
       "      <td>ATA</td>\n",
       "      <td>TU 32AIMN</td>\n",
       "      <td>260.0</td>\n",
       "    </tr>\n",
       "    <tr>\n",
       "      <th>1</th>\n",
       "      <td>train_id_1</td>\n",
       "      <td>2016-01-13</td>\n",
       "      <td>TU 0757</td>\n",
       "      <td>MXP</td>\n",
       "      <td>TUN</td>\n",
       "      <td>2016-01-13 15:05:00</td>\n",
       "      <td>2016-01-13 16.55.00</td>\n",
       "      <td>ATA</td>\n",
       "      <td>TU 31BIMO</td>\n",
       "      <td>20.0</td>\n",
       "    </tr>\n",
       "    <tr>\n",
       "      <th>2</th>\n",
       "      <td>train_id_2</td>\n",
       "      <td>2016-01-16</td>\n",
       "      <td>TU 0214</td>\n",
       "      <td>TUN</td>\n",
       "      <td>IST</td>\n",
       "      <td>2016-01-16 04:10:00</td>\n",
       "      <td>2016-01-16 06.45.00</td>\n",
       "      <td>ATA</td>\n",
       "      <td>TU 32AIMN</td>\n",
       "      <td>0.0</td>\n",
       "    </tr>\n",
       "    <tr>\n",
       "      <th>3</th>\n",
       "      <td>train_id_3</td>\n",
       "      <td>2016-01-17</td>\n",
       "      <td>TU 0480</td>\n",
       "      <td>DJE</td>\n",
       "      <td>NTE</td>\n",
       "      <td>2016-01-17 14:10:00</td>\n",
       "      <td>2016-01-17 17.00.00</td>\n",
       "      <td>ATA</td>\n",
       "      <td>TU 736IOK</td>\n",
       "      <td>0.0</td>\n",
       "    </tr>\n",
       "    <tr>\n",
       "      <th>4</th>\n",
       "      <td>train_id_4</td>\n",
       "      <td>2016-01-17</td>\n",
       "      <td>TU 0338</td>\n",
       "      <td>TUN</td>\n",
       "      <td>ALG</td>\n",
       "      <td>2016-01-17 14:30:00</td>\n",
       "      <td>2016-01-17 15.50.00</td>\n",
       "      <td>ATA</td>\n",
       "      <td>TU 320IMU</td>\n",
       "      <td>22.0</td>\n",
       "    </tr>\n",
       "  </tbody>\n",
       "</table>\n",
       "</div>"
      ],
      "text/plain": [
       "           ID       DATOP     FLTID DEPSTN ARRSTN                  STD  \\\n",
       "0  train_id_0  2016-01-03  TU 0712     CMN    TUN  2016-01-03 10:30:00   \n",
       "1  train_id_1  2016-01-13  TU 0757     MXP    TUN  2016-01-13 15:05:00   \n",
       "2  train_id_2  2016-01-16  TU 0214     TUN    IST  2016-01-16 04:10:00   \n",
       "3  train_id_3  2016-01-17  TU 0480     DJE    NTE  2016-01-17 14:10:00   \n",
       "4  train_id_4  2016-01-17  TU 0338     TUN    ALG  2016-01-17 14:30:00   \n",
       "\n",
       "                   STA STATUS         AC  target  \n",
       "0  2016-01-03 12.55.00    ATA  TU 32AIMN   260.0  \n",
       "1  2016-01-13 16.55.00    ATA  TU 31BIMO    20.0  \n",
       "2  2016-01-16 06.45.00    ATA  TU 32AIMN     0.0  \n",
       "3  2016-01-17 17.00.00    ATA  TU 736IOK     0.0  \n",
       "4  2016-01-17 15.50.00    ATA  TU 320IMU    22.0  "
      ]
     },
     "execution_count": 6,
     "metadata": {},
     "output_type": "execute_result"
    }
   ],
   "source": [
    "df_train.head()"
   ]
  },
  {
   "cell_type": "code",
   "execution_count": 7,
   "id": "783a76dc",
   "metadata": {},
   "outputs": [
    {
     "data": {
      "text/plain": [
       "ID         object\n",
       "DATOP      object\n",
       "FLTID      object\n",
       "DEPSTN     object\n",
       "ARRSTN     object\n",
       "STD        object\n",
       "STA        object\n",
       "STATUS     object\n",
       "AC         object\n",
       "target    float64\n",
       "dtype: object"
      ]
     },
     "execution_count": 7,
     "metadata": {},
     "output_type": "execute_result"
    }
   ],
   "source": [
    "df_train.dtypes"
   ]
  },
  {
   "cell_type": "code",
   "execution_count": 11,
   "id": "78813023",
   "metadata": {},
   "outputs": [
    {
     "data": {
      "text/plain": [
       "Index(['ID', 'DATOP', 'FLTID', 'DEPSTN', 'ARRSTN', 'STD', 'STA', 'STATUS',\n",
       "       'AC', 'target'],\n",
       "      dtype='object')"
      ]
     },
     "execution_count": 11,
     "metadata": {},
     "output_type": "execute_result"
    }
   ],
   "source": [
    "df_train.columns"
   ]
  },
  {
   "cell_type": "code",
   "execution_count": 10,
   "id": "8d80eb08",
   "metadata": {},
   "outputs": [
    {
     "name": "stdout",
     "output_type": "stream",
     "text": [
      "<class 'pandas.core.frame.DataFrame'>\n",
      "RangeIndex: 107833 entries, 0 to 107832\n",
      "Data columns (total 10 columns):\n",
      " #   Column  Non-Null Count   Dtype  \n",
      "---  ------  --------------   -----  \n",
      " 0   ID      107833 non-null  object \n",
      " 1   DATOP   107833 non-null  object \n",
      " 2   FLTID   107833 non-null  object \n",
      " 3   DEPSTN  107833 non-null  object \n",
      " 4   ARRSTN  107833 non-null  object \n",
      " 5   STD     107833 non-null  object \n",
      " 6   STA     107833 non-null  object \n",
      " 7   STATUS  107833 non-null  object \n",
      " 8   AC      107833 non-null  object \n",
      " 9   target  107833 non-null  float64\n",
      "dtypes: float64(1), object(9)\n",
      "memory usage: 8.2+ MB\n"
     ]
    }
   ],
   "source": [
    "df_train.info()"
   ]
  },
  {
   "cell_type": "code",
   "execution_count": 20,
   "id": "9c7d6b37",
   "metadata": {},
   "outputs": [
    {
     "data": {
      "text/plain": [
       "ID        0\n",
       "DATOP     0\n",
       "FLTID     0\n",
       "DEPSTN    0\n",
       "ARRSTN    0\n",
       "STD       0\n",
       "STA       0\n",
       "STATUS    0\n",
       "AC        0\n",
       "target    0\n",
       "dtype: int64"
      ]
     },
     "execution_count": 20,
     "metadata": {},
     "output_type": "execute_result"
    }
   ],
   "source": [
    "df_train.isna().sum()"
   ]
  },
  {
   "cell_type": "code",
   "execution_count": 12,
   "id": "9ca26b89",
   "metadata": {},
   "outputs": [
    {
     "data": {
      "text/html": [
       "<div>\n",
       "<style scoped>\n",
       "    .dataframe tbody tr th:only-of-type {\n",
       "        vertical-align: middle;\n",
       "    }\n",
       "\n",
       "    .dataframe tbody tr th {\n",
       "        vertical-align: top;\n",
       "    }\n",
       "\n",
       "    .dataframe thead th {\n",
       "        text-align: right;\n",
       "    }\n",
       "</style>\n",
       "<table border=\"1\" class=\"dataframe\">\n",
       "  <thead>\n",
       "    <tr style=\"text-align: right;\">\n",
       "      <th></th>\n",
       "      <th>target</th>\n",
       "    </tr>\n",
       "  </thead>\n",
       "  <tbody>\n",
       "    <tr>\n",
       "      <th>count</th>\n",
       "      <td>107833.000000</td>\n",
       "    </tr>\n",
       "    <tr>\n",
       "      <th>mean</th>\n",
       "      <td>48.733013</td>\n",
       "    </tr>\n",
       "    <tr>\n",
       "      <th>std</th>\n",
       "      <td>117.135562</td>\n",
       "    </tr>\n",
       "    <tr>\n",
       "      <th>min</th>\n",
       "      <td>0.000000</td>\n",
       "    </tr>\n",
       "    <tr>\n",
       "      <th>25%</th>\n",
       "      <td>0.000000</td>\n",
       "    </tr>\n",
       "    <tr>\n",
       "      <th>50%</th>\n",
       "      <td>14.000000</td>\n",
       "    </tr>\n",
       "    <tr>\n",
       "      <th>75%</th>\n",
       "      <td>43.000000</td>\n",
       "    </tr>\n",
       "    <tr>\n",
       "      <th>max</th>\n",
       "      <td>3451.000000</td>\n",
       "    </tr>\n",
       "  </tbody>\n",
       "</table>\n",
       "</div>"
      ],
      "text/plain": [
       "              target\n",
       "count  107833.000000\n",
       "mean       48.733013\n",
       "std       117.135562\n",
       "min         0.000000\n",
       "25%         0.000000\n",
       "50%        14.000000\n",
       "75%        43.000000\n",
       "max      3451.000000"
      ]
     },
     "execution_count": 12,
     "metadata": {},
     "output_type": "execute_result"
    }
   ],
   "source": [
    "df_train.describe()"
   ]
  },
  {
   "cell_type": "code",
   "execution_count": 14,
   "id": "579d6cb7",
   "metadata": {},
   "outputs": [
    {
     "name": "stdout",
     "output_type": "stream",
     "text": [
      "ID :\n",
      " ['train_id_0' 'train_id_1' 'train_id_2' ... 'train_id_107830'\n",
      " 'train_id_107831' 'train_id_107832']\n",
      "train_id_0         1\n",
      "train_id_71872     1\n",
      "train_id_71896     1\n",
      "train_id_71895     1\n",
      "train_id_71894     1\n",
      "                  ..\n",
      "train_id_35941     1\n",
      "train_id_35940     1\n",
      "train_id_35939     1\n",
      "train_id_35938     1\n",
      "train_id_107832    1\n",
      "Name: ID, Length: 107833, dtype: int64\n",
      "\n",
      " **************************************** \n",
      "\n",
      "DATOP :\n",
      " ['2016-01-03' '2016-01-13' '2016-01-16' ... '2018-12-28' '2018-12-29'\n",
      " '2018-12-30']\n",
      "2018-08-31    183\n",
      "2016-08-25    179\n",
      "2018-08-27    178\n",
      "2016-08-26    178\n",
      "2016-08-30    177\n",
      "             ... \n",
      "2018-12-05     58\n",
      "2016-02-09     58\n",
      "2016-02-02     58\n",
      "2016-01-26     56\n",
      "2018-12-04     55\n",
      "Name: DATOP, Length: 1011, dtype: int64\n",
      "\n",
      " **************************************** \n",
      "\n",
      "FLTID :\n",
      " ['TU 0712 ' 'TU 0757 ' 'TU 0214 ' ... 'UG 1020 ' 'UG 1501 ' 'UG 1004 ']\n",
      "WKL 0000     3105\n",
      "TU 0613      1284\n",
      "TU 0397      1184\n",
      "AOG 0000     1103\n",
      "TU 0634      1075\n",
      "             ... \n",
      "TU 2177         1\n",
      "TU 7251         1\n",
      "TU 2570         1\n",
      "TU 2561         1\n",
      "UG 1004         1\n",
      "Name: FLTID, Length: 1861, dtype: int64\n",
      "\n",
      " **************************************** \n",
      "\n",
      "DEPSTN :\n",
      " ['CMN' 'MXP' 'TUN' 'DJE' 'TLS' 'IST' 'ORY' 'MIR' 'BRU' 'ABJ' 'VCE' 'AMS'\n",
      " 'FRA' 'BCN' 'JED' 'ALG' 'LIS' 'SXB' 'LYS' 'OUA' 'LGW' 'BEY' 'NCE' 'OPO'\n",
      " 'MRS' 'DUS' 'SFA' 'FCO' 'CDG' 'NKC' 'NTE' 'ZRH' 'GVA' 'OUD' 'MUC' 'SXF'\n",
      " 'HAM' 'NDR' 'NBE' 'CAI' 'BEG' 'VIE' 'ORN' 'MAD' 'TOE' 'BKO' 'DKR' 'KGL'\n",
      " 'BLQ' 'MLA' 'AHU' 'LHR' 'BOD' 'PRG' 'LJU' 'SVO' 'MED' 'BUD' 'ARN' 'CPH'\n",
      " 'CRL' 'OST' 'TNG' 'GAF' 'NAP' 'BRQ' 'OSR' 'YUL' 'NIM' 'TMR' 'JIB' 'CGN'\n",
      " 'EBL' 'GAE' 'BJA' 'AYT' 'RAK' 'LFW' 'LIL' 'PMO' 'FBM' 'TBJ' 'PSA' 'KRT'\n",
      " 'GNB' 'CZL' 'MVB' 'VNO' 'ESB' 'LBV' 'CKY' 'LED' 'KSC' 'BTS' 'AMM' 'OTP'\n",
      " 'TRN' 'IEV' 'HBE' 'CAG' 'KBP' 'ATH' 'SKG' 'ADB' 'DSS' 'DOH' 'COO' 'LUX'\n",
      " 'FIH' 'BYJ' 'KEF' 'EBM' 'BDS' 'AAL' 'VKO' 'AAE' 'BRI' 'VRN' 'SKX' 'HAJ'\n",
      " 'BLL' 'TLL' 'VOG' 'LAD' 'GHA' 'KTW' 'SJJ' 'KRR' 'RTM' 'STR' 'TPS' 'CTA']\n",
      "TUN    42522\n",
      "DJE    10252\n",
      "ORY     6755\n",
      "MIR     5248\n",
      "MRS     2845\n",
      "       ...  \n",
      "ADB        1\n",
      "SKG        1\n",
      "OTP        1\n",
      "KBP        1\n",
      "CTA        1\n",
      "Name: DEPSTN, Length: 132, dtype: int64\n",
      "\n",
      " **************************************** \n",
      "\n",
      "ARRSTN :\n",
      " ['TUN' 'IST' 'NTE' 'ALG' 'BCN' 'ORY' 'FCO' 'NCE' 'MRS' 'MED' 'FRA' 'BRU'\n",
      " 'DJE' 'LYS' 'CMN' 'BEG' 'OUA' 'GVA' 'MXP' 'BEY' 'MAD' 'JED' 'ABJ' 'VIE'\n",
      " 'MLA' 'BLQ' 'SFA' 'LIS' 'LHR' 'CDG' 'MIR' 'CAI' 'DUS' 'HAM' 'NBE' 'ZRH'\n",
      " 'AMS' 'NDR' 'TLS' 'VCE' 'SXB' 'MUC' 'LGW' 'CRL' 'ORN' 'DKR' 'BOD' 'SXF'\n",
      " 'LJU' 'OST' 'NKC' 'BKO' 'TOE' 'AHU' 'YUL' 'PRG' 'CPH' 'ARN' 'OUD' 'BRQ'\n",
      " 'GAF' 'JIB' 'BUD' 'OPO' 'KGL' 'NIM' 'SVO' 'LIL' 'OSR' 'EBL' 'TNG' 'PSA'\n",
      " 'CGN' 'AYT' 'GAE' 'NAP' 'BJA' 'KRT' 'LFW' 'TBJ' 'PMO' 'TMR' 'FBM' 'RAK'\n",
      " 'GNB' 'ESB' 'CZL' 'LBV' 'KSC' 'CKY' 'AMM' 'LED' 'BTS' 'MVB' 'HBE' 'OTP'\n",
      " 'CAG' 'VNO' 'TRN' 'ATH' 'ADB' 'SKG' 'BYJ' 'DSS' 'COO' 'IEV' 'LUX' 'KBP'\n",
      " 'DOH' 'FIH' 'EBM' 'BDS' 'VKO' 'AAE' 'BLL' 'HAJ' 'BRI' 'CTA' 'VRN' 'SKX'\n",
      " 'VOG' 'BGY' 'LAD' 'KRR' 'SJJ' 'GHA' 'RTM' 'TPS']\n",
      "TUN    42572\n",
      "DJE    10198\n",
      "ORY     6755\n",
      "MIR     5251\n",
      "MRS     2845\n",
      "       ...  \n",
      "ESB        1\n",
      "LBV        1\n",
      "MVB        1\n",
      "OTP        1\n",
      "TPS        1\n",
      "Name: ARRSTN, Length: 128, dtype: int64\n",
      "\n",
      " **************************************** \n",
      "\n",
      "STD :\n",
      " ['2016-01-03 10:30:00' '2016-01-13 15:05:00' '2016-01-16 04:10:00' ...\n",
      " '2018-11-07 05:00:00' '2018-01-23 18:00:00' '2018-11-13 06:15:00']\n",
      "2017-06-23 06:00:00    8\n",
      "2017-08-18 06:00:00    7\n",
      "2017-07-21 06:00:00    7\n",
      "2017-08-11 06:00:00    7\n",
      "2016-01-28 07:00:00    7\n",
      "                      ..\n",
      "2017-06-23 07:20:00    1\n",
      "2017-06-23 07:50:00    1\n",
      "2017-06-23 09:40:00    1\n",
      "2017-06-23 09:50:00    1\n",
      "2018-11-13 06:15:00    1\n",
      "Name: STD, Length: 81697, dtype: int64\n",
      "\n",
      " **************************************** \n",
      "\n",
      "STA :\n",
      " ['2016-01-03 12.55.00' '2016-01-13 16.55.00' '2016-01-16 06.45.00' ...\n",
      " '2018-12-20 01.45.00' '2018-01-23 18.45.00' '2018-11-13 07.05.00']\n",
      "2016-01-19 01.00.00    6\n",
      "2018-04-07 01.00.00    6\n",
      "2017-01-26 01.00.00    6\n",
      "2018-02-26 09.00.00    6\n",
      "2018-01-29 17.00.00    6\n",
      "                      ..\n",
      "2017-06-16 15.25.00    1\n",
      "2017-06-16 14.35.00    1\n",
      "2017-06-16 08.20.00    1\n",
      "2017-06-16 08.25.00    1\n",
      "2018-11-13 07.05.00    1\n",
      "Name: STA, Length: 85136, dtype: int64\n",
      "\n",
      " **************************************** \n",
      "\n",
      "STATUS :\n",
      " ['ATA' 'DEP' 'RTR' 'SCH' 'DEL']\n",
      "ATA    93679\n",
      "SCH    13242\n",
      "DEP      467\n",
      "RTR      294\n",
      "DEL      151\n",
      "Name: STATUS, dtype: int64\n",
      "\n",
      " **************************************** \n",
      "\n",
      "AC :\n",
      " ['TU 32AIMN' 'TU 31BIMO' 'TU 736IOK' 'TU 320IMU' 'TU 736IOP' 'TU 32AIMH'\n",
      " 'TU 32AIMI' 'TU 32AIMC' 'TU 31AIMK' 'TU 32AIMF' 'TU 32AIMP' 'TU 320IMR'\n",
      " 'TU 332IFN' 'TU 31AIMJ' 'TU 320IMT' 'TU 736IOL' 'TU 31BIMQ' 'TU 736IOR'\n",
      " 'TU 320IMV' 'TU 320IMS' 'TU 332IFM' 'TU 320IMW' 'TU 32AIML' 'TU 32AIMD'\n",
      " 'TU 32AIMM' 'TU CR9ISA' 'TU 32AIMG' 'TU 736ION' 'TU 736IOM' 'TU 736IOQ'\n",
      " '5M 343SUN' 'UG AT7LBD' '5K 343TQY' 'UG AT7LBE' 'UG AT7AT7' 'BJ 320INP'\n",
      " 'BJ 320INH' 'BJ 320INQ' 'BJ 320INA' 'UG CR9XXX' 'UG CR9CR9' 'TU 32A32A'\n",
      " 'BJ 320INB' 'GJ 734CGC' 'QS 738TSC' 'PS 738PSD' 'D4 319CQG' 'BJ 320INR'\n",
      " 'BJ 320INC' 'UJ 320TCF' '5K 345TFX' 'D4 320CQP' '5M 343JAI' 'GW 320MQH'\n",
      " 'UG CR9ISA' '6P M87TRJ' 'TU CR9CR9' 'TU CR9XXX' 'GJ 733EWE' 'GJ 734PGC'\n",
      " 'GJ 733GGC' 'GJ 734MGC' 'GJ 733LGC' '5M 343FOX' 'BJ 320INO' 'OL 321ABY'\n",
      " 'X9 320VEB' 'TU 320320']\n",
      "TU 320IMU    4724\n",
      "TU 320IMW    4685\n",
      "TU 320IMT    4634\n",
      "TU 320IMR    4601\n",
      "TU 320IMV    4589\n",
      "             ... \n",
      "BJ 320INH       6\n",
      "OL 321ABY       5\n",
      "TU CR9XXX       2\n",
      "TU 32A32A       2\n",
      "TU 320320       1\n",
      "Name: AC, Length: 68, dtype: int64\n",
      "\n",
      " **************************************** \n",
      "\n",
      "target :\n",
      " [2.600e+02 2.000e+01 0.000e+00 2.200e+01 5.300e+01 1.000e+01 1.500e+01\n",
      " 1.600e+01 2.100e+01 1.200e+01 1.800e+01 3.700e+01 1.490e+02 3.000e+01\n",
      " 1.900e+01 2.700e+01 3.100e+01 2.400e+01 9.000e+00 4.900e+01 7.000e+00\n",
      " 1.250e+02 1.300e+01 2.500e+01 5.000e+01 9.300e+01 1.470e+02 5.000e+00\n",
      " 1.700e+01 2.360e+02 1.610e+02 8.100e+01 1.400e+01 2.300e+01 4.000e+00\n",
      " 1.100e+01 4.200e+01 3.400e+01 8.400e+01 3.500e+01 4.500e+01 6.000e+00\n",
      " 4.000e+01 2.800e+01 5.800e+01 1.700e+02 2.210e+02 1.330e+02 8.000e+01\n",
      " 5.100e+01 9.000e+01 6.500e+02 3.100e+02 4.400e+01 6.000e+01 6.100e+01\n",
      " 8.000e+00 3.900e+01 4.600e+01 3.600e+01 3.200e+01 2.900e+01 5.600e+01\n",
      " 6.340e+02 1.850e+02 2.600e+01 4.700e+01 2.340e+02 2.280e+02 2.750e+02\n",
      " 3.800e+01 4.100e+01 3.580e+02 7.000e+01 1.110e+02 2.050e+02 4.300e+01\n",
      " 1.600e+02 1.170e+02 7.800e+01 2.010e+02 3.080e+02 1.210e+02 1.080e+02\n",
      " 1.020e+02 5.550e+02 6.140e+02 1.050e+02 1.480e+02 5.500e+01 3.000e+00\n",
      " 1.410e+02 1.430e+02 1.000e+02 1.550e+02 3.300e+01 5.200e+01 6.300e+01\n",
      " 1.100e+02 5.700e+01 1.360e+02 1.460e+02 3.380e+02 3.450e+02 7.200e+01\n",
      " 6.800e+01 1.240e+02 1.520e+02 5.400e+01 6.500e+01 1.220e+02 5.900e+01\n",
      " 1.300e+02 2.040e+02 1.530e+02 1.150e+02 6.100e+02 2.150e+02 6.600e+01\n",
      " 1.450e+02 6.400e+01 2.300e+02 1.370e+02 1.200e+02 6.200e+01 4.800e+01\n",
      " 1.620e+02 1.500e+02 4.000e+02 4.140e+02 1.350e+02 7.500e+01 1.738e+03\n",
      " 8.500e+01 2.480e+02 2.450e+02 2.200e+02 2.140e+02 1.140e+02 2.100e+02\n",
      " 2.020e+02 1.420e+02 1.040e+02 1.950e+02 6.900e+01 2.250e+02 2.590e+02\n",
      " 1.630e+02 7.400e+01 1.060e+02 1.230e+02 2.540e+02 1.540e+02 2.000e+02\n",
      " 1.400e+02 2.110e+02 1.690e+02 1.560e+02 1.130e+02 1.245e+03 9.900e+01\n",
      " 1.010e+02 2.000e+00 1.070e+02 4.800e+02 5.450e+02 3.120e+02 9.700e+01\n",
      " 1.280e+02 1.310e+02 1.320e+02 5.070e+02 4.200e+02 3.800e+02 3.350e+02\n",
      " 1.180e+02 8.700e+01 9.800e+01 2.370e+02 2.400e+02 2.720e+02 1.290e+02\n",
      " 2.123e+03 1.190e+02 1.151e+03 1.150e+03 3.420e+02 1.970e+02 1.270e+02\n",
      " 4.910e+02 2.170e+02 1.580e+02 6.700e+01 3.490e+02 2.180e+02 1.160e+02\n",
      " 1.120e+02 3.480e+02 3.500e+02 1.090e+02 7.700e+01 6.060e+02 5.340e+02\n",
      " 4.500e+02 2.260e+02 4.080e+02 4.070e+02 1.030e+02 2.380e+02 2.850e+02\n",
      " 2.690e+02 3.170e+02 2.770e+02 2.550e+02 4.700e+02 5.100e+02 1.640e+02\n",
      " 1.340e+02 2.790e+02 1.830e+02 9.200e+01 2.130e+02 2.460e+02 4.160e+02\n",
      " 8.600e+01 2.390e+02 2.490e+02 3.180e+02 7.600e+01 1.440e+02 2.760e+02\n",
      " 2.580e+02 3.300e+02 7.100e+01 2.070e+02 2.560e+02 4.280e+02 2.240e+02\n",
      " 7.900e+01 4.390e+02 5.880e+02 2.030e+02 2.060e+02 3.000e+02 1.510e+02\n",
      " 1.750e+02 3.630e+02 3.890e+02 8.900e+01 2.500e+02 5.500e+02 2.090e+02\n",
      " 2.320e+02 4.300e+02 2.220e+02 2.640e+02 2.190e+02 1.590e+02 3.050e+02\n",
      " 3.090e+02 9.400e+01 2.620e+02 4.030e+02 3.040e+02 4.550e+02 7.400e+02\n",
      " 4.060e+02 2.270e+02 1.380e+02 6.400e+02 3.550e+02 3.440e+02 2.350e+02\n",
      " 2.420e+02 1.955e+03 1.570e+02 1.800e+02 2.710e+02 3.150e+02 4.250e+02\n",
      " 4.190e+02 4.450e+02 3.270e+02 3.210e+02 5.330e+02 4.530e+02 4.350e+02\n",
      " 2.470e+02 2.290e+02 1.730e+02 2.120e+02 2.570e+02 1.680e+02 3.220e+02\n",
      " 5.250e+02 3.030e+02 1.780e+02 3.540e+02 2.160e+02 3.280e+02 3.400e+02\n",
      " 5.580e+02 3.750e+02 1.650e+02 2.410e+02 6.520e+02 1.790e+02 4.100e+02\n",
      " 7.280e+02 7.180e+02 5.350e+02 6.720e+02 4.430e+02 4.580e+02 6.280e+02\n",
      " 1.990e+02 6.550e+02 4.560e+02 9.500e+01 1.810e+02 8.200e+01 2.680e+02\n",
      " 8.300e+01 3.020e+02 5.840e+02 1.260e+02 6.090e+02 6.430e+02 3.610e+02\n",
      " 4.040e+02 1.670e+02 7.300e+01 5.020e+02 6.130e+02 4.230e+02 5.180e+02\n",
      " 3.240e+02 1.760e+02 3.200e+02 1.880e+02 3.600e+02 4.270e+02 4.630e+02\n",
      " 2.530e+02 9.600e+01 3.620e+02 3.340e+02 3.140e+02 3.760e+02 6.300e+02\n",
      " 7.150e+02 2.610e+02 3.160e+02 5.520e+02 5.390e+02 5.090e+02 6.150e+02\n",
      " 3.650e+02 1.900e+02 3.310e+02 3.470e+02 1.390e+02 5.700e+02 3.700e+02\n",
      " 3.570e+02 3.770e+02 4.150e+02 4.090e+02 8.800e+01 4.220e+02 4.470e+02\n",
      " 7.320e+02 7.650e+02 7.450e+02 3.110e+02 5.470e+02 4.310e+02 4.120e+02\n",
      " 1.710e+02 4.050e+02 4.790e+02 1.770e+02 2.980e+03 2.230e+02 4.400e+02\n",
      " 4.780e+02 4.360e+02 2.330e+02 1.840e+02 2.430e+02 3.320e+02 3.330e+02\n",
      " 4.290e+02 3.660e+02 4.570e+02 4.330e+02 2.154e+03 4.340e+02 5.160e+02\n",
      " 5.480e+02 1.547e+03 1.930e+02 3.520e+02 5.320e+02 5.150e+02 1.980e+02\n",
      " 1.185e+03 2.440e+02 2.930e+02 2.960e+02 2.630e+02 4.750e+02 2.080e+02\n",
      " 2.510e+02 3.870e+02 4.020e+02 3.190e+02 4.590e+02 3.130e+02 3.250e+02\n",
      " 2.940e+02 4.950e+02 2.310e+02 5.410e+02 5.400e+02 3.360e+02 3.590e+02\n",
      " 6.210e+02 5.300e+02 4.620e+02 4.130e+02 7.250e+02 6.650e+02 1.740e+02\n",
      " 3.060e+02 4.520e+02 3.010e+02 6.360e+02 4.010e+02 3.820e+02 4.240e+02\n",
      " 6.570e+02 4.480e+02 4.930e+02 5.230e+02 1.890e+02 1.720e+02 5.610e+02\n",
      " 5.830e+02 6.240e+02 6.330e+02 2.660e+02 1.820e+02 1.920e+02 3.530e+02\n",
      " 3.460e+02 4.370e+02 7.170e+02 2.800e+02 1.825e+03 1.000e+00 6.000e+02\n",
      " 6.180e+02 5.050e+02 5.040e+02 8.390e+02 2.520e+02 5.460e+02 5.490e+02\n",
      " 5.260e+02 4.540e+02 7.600e+02 3.390e+02 4.730e+02 5.750e+02 1.660e+02\n",
      " 6.040e+02 7.000e+02 6.030e+02 5.130e+02 5.170e+02 3.430e+02 8.430e+02\n",
      " 1.450e+03 8.500e+02 9.520e+02 2.670e+02 3.230e+02 4.210e+02 3.510e+02\n",
      " 1.003e+03 3.260e+02 1.614e+03 1.551e+03 2.650e+02 1.821e+03 5.290e+02\n",
      " 3.070e+02 3.680e+02 5.770e+02 2.730e+02 6.600e+02 2.700e+02 3.950e+02\n",
      " 1.880e+03 6.450e+02 3.690e+02 7.440e+02 1.723e+03 2.740e+02 6.120e+02\n",
      " 5.200e+02 3.560e+02 1.831e+03 1.940e+02 1.860e+02 3.670e+02 5.430e+02\n",
      " 4.410e+02 2.420e+03 6.050e+02 2.345e+03 4.260e+02 2.900e+02 6.160e+02\n",
      " 7.090e+02 6.510e+02 6.580e+02 2.830e+02 4.170e+02 5.000e+02 2.970e+02\n",
      " 5.850e+02 2.840e+02 4.420e+02 6.880e+02 1.750e+03 6.110e+02 1.390e+03\n",
      " 7.060e+02 1.325e+03 2.980e+02 5.380e+02 1.147e+03 2.582e+03 2.712e+03\n",
      " 1.544e+03 1.563e+03 3.370e+02 1.229e+03 1.271e+03 2.078e+03 6.190e+02\n",
      " 9.090e+02 9.550e+02 9.300e+02 7.350e+02 3.410e+02 1.422e+03 2.780e+02\n",
      " 2.433e+03 9.100e+01 4.510e+02 1.910e+02 7.370e+02 5.110e+02 7.420e+02\n",
      " 4.830e+02 8.260e+02 7.100e+02 3.290e+02 2.880e+02 5.140e+02 4.710e+02\n",
      " 6.470e+02 4.490e+02 2.920e+02 6.660e+02 5.370e+02 4.740e+02 1.870e+02\n",
      " 4.880e+02 8.550e+02 4.640e+02 5.440e+02 7.200e+02 8.080e+02 1.612e+03\n",
      " 1.557e+03 7.010e+02 5.310e+02 5.280e+02 7.830e+02 9.750e+02 9.360e+02\n",
      " 3.720e+02 3.850e+02 2.465e+03 2.427e+03 1.035e+03 1.934e+03 1.037e+03\n",
      " 1.045e+03 4.690e+02 6.250e+02 7.300e+02 3.910e+02 3.940e+02 4.850e+02\n",
      " 1.735e+03 1.745e+03 5.360e+02 7.020e+02 7.050e+02 5.270e+02 9.000e+02\n",
      " 1.855e+03 1.810e+03 7.030e+02 8.360e+02 7.500e+02 6.320e+02 8.190e+02\n",
      " 1.330e+03 5.030e+02 1.342e+03 5.650e+02 6.230e+02 6.690e+02 7.550e+02\n",
      " 8.540e+02 8.200e+02 9.250e+02 9.230e+02 9.070e+02 3.730e+02 4.460e+02\n",
      " 8.020e+02 1.404e+03 6.270e+02 8.880e+02 7.130e+02 6.370e+02 6.750e+02\n",
      " 9.200e+02 9.020e+02 9.030e+02 5.950e+02 6.700e+02 6.860e+02 7.160e+02\n",
      " 1.253e+03 5.570e+02 9.780e+02 3.780e+02 4.180e+02 1.960e+02 2.890e+02\n",
      " 3.900e+02 7.540e+02 6.850e+02 6.350e+02 2.950e+02 6.530e+02 5.800e+02\n",
      " 5.590e+02 1.800e+03 1.550e+03 8.450e+02 2.120e+03 6.220e+02 1.064e+03\n",
      " 8.180e+02 8.370e+02 6.080e+02 4.110e+02 7.040e+02 4.380e+02 2.810e+02\n",
      " 8.520e+02 8.210e+02 6.170e+02 1.940e+03 3.840e+02 2.870e+02 5.060e+02\n",
      " 8.300e+02 7.530e+02 3.451e+03 9.450e+02 6.290e+02 5.010e+02 4.600e+02\n",
      " 1.110e+03 5.860e+02 8.560e+02 1.765e+03 2.942e+03 1.522e+03 1.528e+03\n",
      " 1.982e+03 7.580e+02 2.743e+03 2.746e+03 4.890e+02 4.610e+02 8.490e+02\n",
      " 1.648e+03 5.730e+02 1.051e+03 7.430e+02 7.290e+02 8.720e+02 3.930e+02\n",
      " 7.410e+02 4.980e+02 1.406e+03 5.190e+02 4.760e+02 5.760e+02 8.350e+02\n",
      " 2.860e+02 7.140e+02 8.070e+02 1.250e+03 2.602e+03 7.680e+02 2.655e+03\n",
      " 3.740e+02 2.058e+03 9.040e+02 8.380e+02 1.165e+03 6.490e+02 7.220e+02\n",
      " 6.460e+02 1.710e+03 7.640e+02 8.240e+02 7.590e+02 5.670e+02 6.200e+02\n",
      " 3.710e+02 6.680e+02 6.420e+02 7.850e+02 8.150e+02 4.670e+02 4.320e+02\n",
      " 4.660e+02 2.636e+03 7.190e+02 7.520e+02 7.950e+02 2.990e+02 4.650e+02\n",
      " 6.480e+02 6.900e+02 2.152e+03 2.203e+03 4.860e+02 3.025e+03 5.640e+02\n",
      " 4.680e+02 7.700e+02 2.727e+03 6.380e+02 1.056e+03 5.680e+02 5.660e+02\n",
      " 2.042e+03 9.420e+02 7.480e+02 4.770e+02 3.860e+02 8.440e+02 2.523e+03\n",
      " 1.813e+03 5.210e+02 2.910e+02 1.449e+03 2.820e+02 1.145e+03 1.140e+03\n",
      " 1.235e+03 1.514e+03 5.420e+02 3.960e+02 2.138e+03 9.600e+02 1.018e+03\n",
      " 8.050e+02 6.820e+02 2.422e+03 1.445e+03 1.427e+03 6.970e+02 7.380e+02\n",
      " 1.015e+03 1.000e+03 8.780e+02 3.830e+02 9.500e+02 1.555e+03 8.800e+02\n",
      " 7.630e+02 1.141e+03 3.790e+02 5.080e+02 7.460e+02 8.640e+02 3.970e+02\n",
      " 9.510e+02 4.810e+02 7.750e+02 1.240e+03 4.970e+02 7.340e+02 6.540e+02\n",
      " 5.240e+02 3.245e+03 3.990e+02 6.590e+02 8.470e+02 5.560e+02 2.745e+03\n",
      " 1.219e+03 6.930e+02 9.700e+02 9.110e+02 7.900e+02 1.020e+03 1.010e+03\n",
      " 2.020e+03 8.460e+02 8.290e+02 9.350e+02 1.603e+03 5.900e+02 8.000e+02\n",
      " 8.580e+02 1.222e+03 2.835e+03 1.160e+03 4.840e+02 8.600e+02 3.810e+02\n",
      " 1.425e+03 1.483e+03 1.011e+03 1.019e+03 2.474e+03 4.440e+02 5.620e+02\n",
      " 7.230e+02 8.160e+02 1.234e+03 1.740e+03 1.190e+03 1.225e+03 1.230e+03\n",
      " 7.080e+02 1.458e+03 5.630e+02 5.990e+02 7.260e+02 6.010e+02 4.920e+02\n",
      " 9.370e+02 1.034e+03 6.610e+02 8.120e+02 4.820e+02 5.690e+02 1.205e+03\n",
      " 8.650e+02 3.640e+02 5.790e+02 5.890e+02 6.800e+02 5.600e+02 1.193e+03\n",
      " 1.299e+03 1.201e+03 2.415e+03 1.455e+03 1.470e+03 1.125e+03 1.215e+03\n",
      " 1.109e+03 8.030e+02 7.570e+02 1.350e+03 1.107e+03 3.880e+02 7.390e+02\n",
      " 1.553e+03 4.720e+02 1.633e+03 7.330e+02 7.310e+02 7.240e+02 1.590e+03\n",
      " 6.890e+02 1.853e+03 7.470e+02 6.390e+02 1.545e+03 1.257e+03 6.630e+02\n",
      " 1.370e+03 1.255e+03 8.100e+02 8.420e+02 6.440e+02 1.945e+03 1.939e+03\n",
      " 9.150e+02 1.023e+03 1.005e+03 5.910e+02 8.530e+02 7.980e+02 7.110e+02\n",
      " 1.050e+03 1.055e+03 1.890e+03 1.153e+03 1.210e+03 6.730e+02 4.900e+02\n",
      " 6.620e+02 9.100e+02 7.770e+02 1.343e+03 6.770e+02 7.120e+02 2.546e+03\n",
      " 1.302e+03 9.190e+02 1.811e+03 1.950e+03 1.928e+03 6.410e+02 6.710e+02\n",
      " 1.026e+03 8.750e+02 2.697e+03 2.435e+03 2.520e+03 7.270e+02 9.120e+02\n",
      " 3.317e+03 6.740e+02 2.456e+03 1.100e+03 1.345e+03 1.046e+03 9.900e+02\n",
      " 1.077e+03 8.410e+02 2.455e+03 1.610e+03 1.620e+03 2.445e+03 2.419e+03\n",
      " 5.720e+02 1.007e+03]\n",
      "0.0       38168\n",
      "10.0       3038\n",
      "15.0       2680\n",
      "5.0        2406\n",
      "20.0       2310\n",
      "          ...  \n",
      "904.0         1\n",
      "2058.0        1\n",
      "2655.0        1\n",
      "2602.0        1\n",
      "1007.0        1\n",
      "Name: target, Length: 968, dtype: int64\n",
      "\n",
      " **************************************** \n",
      "\n"
     ]
    }
   ],
   "source": [
    "# let's check unique values\n",
    "columns=df_train.columns\n",
    "for col in columns:\n",
    "    print(col,':\\n',df_train[col].unique())\n",
    "    print(df_train[col].value_counts())\n",
    "    print('\\n',20*'**','\\n')"
   ]
  },
  {
   "cell_type": "code",
   "execution_count": 15,
   "id": "76207923",
   "metadata": {},
   "outputs": [
    {
     "data": {
      "text/plain": [
       "array([[<AxesSubplot:title={'center':'target'}>]], dtype=object)"
      ]
     },
     "execution_count": 15,
     "metadata": {},
     "output_type": "execute_result"
    },
    {
     "data": {
      "image/png": "[encoded data removed]",
      "text/plain": [
       "<Figure size 1800x1440 with 1 Axes>"
      ]
     },
     "metadata": {},
     "output_type": "display_data"
    }
   ],
   "source": [
    "plt.style.use(\"seaborn\")\n",
    "df.hist(figsize=(25,20), bins=15)"
   ]
  },
  {
   "cell_type": "code",
   "execution_count": 16,
   "id": "b77fb6d1",
   "metadata": {},
   "outputs": [
    {
     "data": {
      "text/plain": [
       "array(['ATA', 'DEP', 'RTR', 'SCH', 'DEL'], dtype=object)"
      ]
     },
     "execution_count": 16,
     "metadata": {},
     "output_type": "execute_result"
    }
   ],
   "source": [
    "df_train['STATUS'].unique()"
   ]
  },
  {
   "cell_type": "code",
   "execution_count": 17,
   "id": "b24c900e",
   "metadata": {},
   "outputs": [
    {
     "data": {
      "text/plain": [
       "ATA    93679\n",
       "SCH    13242\n",
       "DEP      467\n",
       "RTR      294\n",
       "DEL      151\n",
       "Name: STATUS, dtype: int64"
      ]
     },
     "execution_count": 17,
     "metadata": {},
     "output_type": "execute_result"
    }
   ],
   "source": [
    "df_train['STATUS'].value_counts()"
   ]
  },
  {
   "cell_type": "code",
   "execution_count": 18,
   "id": "848d8d73",
   "metadata": {},
   "outputs": [
    {
     "data": {
      "text/plain": [
       "<AxesSubplot:xlabel='STATUS', ylabel='count'>"
      ]
     },
     "execution_count": 18,
     "metadata": {},
     "output_type": "execute_result"
    },
    {
     "data": {
      "image/png": "[encoded data removed]",
      "text/plain": [
       "<Figure size 576x396 with 1 Axes>"
      ]
     },
     "metadata": {},
     "output_type": "display_data"
    }
   ],
   "source": [
    "sns.countplot(x=\"STATUS\", data=df_train)"
   ]
  },
  {
   "cell_type": "code",
   "execution_count": 19,
   "id": "1ba6181c",
   "metadata": {},
   "outputs": [
    {
     "data": {
      "text/plain": [
       "<AxesSubplot:ylabel='STATUS'>"
      ]
     },
     "execution_count": 19,
     "metadata": {},
     "output_type": "execute_result"
    },
    {
     "data": {
      "image/png": "[encoded data removed]",
      "text/plain": [
       "<Figure size 576x396 with 1 Axes>"
      ]
     },
     "metadata": {},
     "output_type": "display_data"
    }
   ],
   "source": [
    "df_train['STATUS'].value_counts().plot(kind='pie',autopct='%1.1f%%')"
   ]
  },
  {
   "cell_type": "code",
   "execution_count": 21,
   "id": "336802e3",
   "metadata": {},
   "outputs": [
    {
     "data": {
      "text/plain": [
       "array(['TU 32AIMN', 'TU 31BIMO', 'TU 736IOK', 'TU 320IMU', 'TU 736IOP',\n",
       "       'TU 32AIMH', 'TU 32AIMI', 'TU 32AIMC', 'TU 31AIMK', 'TU 32AIMF',\n",
       "       'TU 32AIMP', 'TU 320IMR', 'TU 332IFN', 'TU 31AIMJ', 'TU 320IMT',\n",
       "       'TU 736IOL', 'TU 31BIMQ', 'TU 736IOR', 'TU 320IMV', 'TU 320IMS',\n",
       "       'TU 332IFM', 'TU 320IMW', 'TU 32AIML', 'TU 32AIMD', 'TU 32AIMM',\n",
       "       'TU CR9ISA', 'TU 32AIMG', 'TU 736ION', 'TU 736IOM', 'TU 736IOQ',\n",
       "       '5M 343SUN', 'UG AT7LBD', '5K 343TQY', 'UG AT7LBE', 'UG AT7AT7',\n",
       "       'BJ 320INP', 'BJ 320INH', 'BJ 320INQ', 'BJ 320INA', 'UG CR9XXX',\n",
       "       'UG CR9CR9', 'TU 32A32A', 'BJ 320INB', 'GJ 734CGC', 'QS 738TSC',\n",
       "       'PS 738PSD', 'D4 319CQG', 'BJ 320INR', 'BJ 320INC', 'UJ 320TCF',\n",
       "       '5K 345TFX', 'D4 320CQP', '5M 343JAI', 'GW 320MQH', 'UG CR9ISA',\n",
       "       '6P M87TRJ', 'TU CR9CR9', 'TU CR9XXX', 'GJ 733EWE', 'GJ 734PGC',\n",
       "       'GJ 733GGC', 'GJ 734MGC', 'GJ 733LGC', '5M 343FOX', 'BJ 320INO',\n",
       "       'OL 321ABY', 'X9 320VEB', 'TU 320320'], dtype=object)"
      ]
     },
     "execution_count": 21,
     "metadata": {},
     "output_type": "execute_result"
    }
   ],
   "source": [
    "df_train['AC'].unique()"
   ]
  },
  {
   "cell_type": "code",
   "execution_count": 22,
   "id": "66dad41d",
   "metadata": {},
   "outputs": [
    {
     "data": {
      "text/plain": [
       "TU 320IMU    4724\n",
       "TU 320IMW    4685\n",
       "TU 320IMT    4634\n",
       "TU 320IMR    4601\n",
       "TU 320IMV    4589\n",
       "             ... \n",
       "BJ 320INH       6\n",
       "OL 321ABY       5\n",
       "TU CR9XXX       2\n",
       "TU 32A32A       2\n",
       "TU 320320       1\n",
       "Name: AC, Length: 68, dtype: int64"
      ]
     },
     "execution_count": 22,
     "metadata": {},
     "output_type": "execute_result"
    }
   ],
   "source": [
    "df_train['AC'].value_counts()"
   ]
  },
  {
   "cell_type": "code",
   "execution_count": 23,
   "id": "96738c89",
   "metadata": {},
   "outputs": [
    {
     "data": {
      "text/plain": [
       "<AxesSubplot:xlabel='AC', ylabel='count'>"
      ]
     },
     "execution_count": 23,
     "metadata": {},
     "output_type": "execute_result"
    },
    {
     "data": {
      "image/png": "[encoded data removed]",
      "text/plain": [
       "<Figure size 576x396 with 1 Axes>"
      ]
     },
     "metadata": {},
     "output_type": "display_data"
    }
   ],
   "source": [
    "sns.countplot(x=\"AC\", data=df_train)"
   ]
  },
  {
   "cell_type": "code",
   "execution_count": 24,
   "id": "0667a1d8",
   "metadata": {},
   "outputs": [
    {
     "data": {
      "text/plain": [
       "<AxesSubplot:ylabel='AC'>"
      ]
     },
     "execution_count": 24,
     "metadata": {},
     "output_type": "execute_result"
    },
    {
     "data": {
      "image/png": "[encoded data removed]",
      "text/plain": [
       "<Figure size 576x396 with 1 Axes>"
      ]
     },
     "metadata": {},
     "output_type": "display_data"
    }
   ],
   "source": [
    "df_train['AC'].value_counts().plot(kind='pie',autopct='%1.1f%%')"
   ]
  },
  {
   "cell_type": "code",
   "execution_count": 25,
   "id": "5dbb28d9",
   "metadata": {},
   "outputs": [
    {
     "data": {
      "text/plain": [
       "array([2.600e+02, 2.000e+01, 0.000e+00, 2.200e+01, 5.300e+01, 1.000e+01,\n",
       "       1.500e+01, 1.600e+01, 2.100e+01, 1.200e+01, 1.800e+01, 3.700e+01,\n",
       "       1.490e+02, 3.000e+01, 1.900e+01, 2.700e+01, 3.100e+01, 2.400e+01,\n",
       "       9.000e+00, 4.900e+01, 7.000e+00, 1.250e+02, 1.300e+01, 2.500e+01,\n",
       "       5.000e+01, 9.300e+01, 1.470e+02, 5.000e+00, 1.700e+01, 2.360e+02,\n",
       "       1.610e+02, 8.100e+01, 1.400e+01, 2.300e+01, 4.000e+00, 1.100e+01,\n",
       "       4.200e+01, 3.400e+01, 8.400e+01, 3.500e+01, 4.500e+01, 6.000e+00,\n",
       "       4.000e+01, 2.800e+01, 5.800e+01, 1.700e+02, 2.210e+02, 1.330e+02,\n",
       "       8.000e+01, 5.100e+01, 9.000e+01, 6.500e+02, 3.100e+02, 4.400e+01,\n",
       "       6.000e+01, 6.100e+01, 8.000e+00, 3.900e+01, 4.600e+01, 3.600e+01,\n",
       "       3.200e+01, 2.900e+01, 5.600e+01, 6.340e+02, 1.850e+02, 2.600e+01,\n",
       "       4.700e+01, 2.340e+02, 2.280e+02, 2.750e+02, 3.800e+01, 4.100e+01,\n",
       "       3.580e+02, 7.000e+01, 1.110e+02, 2.050e+02, 4.300e+01, 1.600e+02,\n",
       "       1.170e+02, 7.800e+01, 2.010e+02, 3.080e+02, 1.210e+02, 1.080e+02,\n",
       "       1.020e+02, 5.550e+02, 6.140e+02, 1.050e+02, 1.480e+02, 5.500e+01,\n",
       "       3.000e+00, 1.410e+02, 1.430e+02, 1.000e+02, 1.550e+02, 3.300e+01,\n",
       "       5.200e+01, 6.300e+01, 1.100e+02, 5.700e+01, 1.360e+02, 1.460e+02,\n",
       "       3.380e+02, 3.450e+02, 7.200e+01, 6.800e+01, 1.240e+02, 1.520e+02,\n",
       "       5.400e+01, 6.500e+01, 1.220e+02, 5.900e+01, 1.300e+02, 2.040e+02,\n",
       "       1.530e+02, 1.150e+02, 6.100e+02, 2.150e+02, 6.600e+01, 1.450e+02,\n",
       "       6.400e+01, 2.300e+02, 1.370e+02, 1.200e+02, 6.200e+01, 4.800e+01,\n",
       "       1.620e+02, 1.500e+02, 4.000e+02, 4.140e+02, 1.350e+02, 7.500e+01,\n",
       "       1.738e+03, 8.500e+01, 2.480e+02, 2.450e+02, 2.200e+02, 2.140e+02,\n",
       "       1.140e+02, 2.100e+02, 2.020e+02, 1.420e+02, 1.040e+02, 1.950e+02,\n",
       "       6.900e+01, 2.250e+02, 2.590e+02, 1.630e+02, 7.400e+01, 1.060e+02,\n",
       "       1.230e+02, 2.540e+02, 1.540e+02, 2.000e+02, 1.400e+02, 2.110e+02,\n",
       "       1.690e+02, 1.560e+02, 1.130e+02, 1.245e+03, 9.900e+01, 1.010e+02,\n",
       "       2.000e+00, 1.070e+02, 4.800e+02, 5.450e+02, 3.120e+02, 9.700e+01,\n",
       "       1.280e+02, 1.310e+02, 1.320e+02, 5.070e+02, 4.200e+02, 3.800e+02,\n",
       "       3.350e+02, 1.180e+02, 8.700e+01, 9.800e+01, 2.370e+02, 2.400e+02,\n",
       "       2.720e+02, 1.290e+02, 2.123e+03, 1.190e+02, 1.151e+03, 1.150e+03,\n",
       "       3.420e+02, 1.970e+02, 1.270e+02, 4.910e+02, 2.170e+02, 1.580e+02,\n",
       "       6.700e+01, 3.490e+02, 2.180e+02, 1.160e+02, 1.120e+02, 3.480e+02,\n",
       "       3.500e+02, 1.090e+02, 7.700e+01, 6.060e+02, 5.340e+02, 4.500e+02,\n",
       "       2.260e+02, 4.080e+02, 4.070e+02, 1.030e+02, 2.380e+02, 2.850e+02,\n",
       "       2.690e+02, 3.170e+02, 2.770e+02, 2.550e+02, 4.700e+02, 5.100e+02,\n",
       "       1.640e+02, 1.340e+02, 2.790e+02, 1.830e+02, 9.200e+01, 2.130e+02,\n",
       "       2.460e+02, 4.160e+02, 8.600e+01, 2.390e+02, 2.490e+02, 3.180e+02,\n",
       "       7.600e+01, 1.440e+02, 2.760e+02, 2.580e+02, 3.300e+02, 7.100e+01,\n",
       "       2.070e+02, 2.560e+02, 4.280e+02, 2.240e+02, 7.900e+01, 4.390e+02,\n",
       "       5.880e+02, 2.030e+02, 2.060e+02, 3.000e+02, 1.510e+02, 1.750e+02,\n",
       "       3.630e+02, 3.890e+02, 8.900e+01, 2.500e+02, 5.500e+02, 2.090e+02,\n",
       "       2.320e+02, 4.300e+02, 2.220e+02, 2.640e+02, 2.190e+02, 1.590e+02,\n",
       "       3.050e+02, 3.090e+02, 9.400e+01, 2.620e+02, 4.030e+02, 3.040e+02,\n",
       "       4.550e+02, 7.400e+02, 4.060e+02, 2.270e+02, 1.380e+02, 6.400e+02,\n",
       "       3.550e+02, 3.440e+02, 2.350e+02, 2.420e+02, 1.955e+03, 1.570e+02,\n",
       "       1.800e+02, 2.710e+02, 3.150e+02, 4.250e+02, 4.190e+02, 4.450e+02,\n",
       "       3.270e+02, 3.210e+02, 5.330e+02, 4.530e+02, 4.350e+02, 2.470e+02,\n",
       "       2.290e+02, 1.730e+02, 2.120e+02, 2.570e+02, 1.680e+02, 3.220e+02,\n",
       "       5.250e+02, 3.030e+02, 1.780e+02, 3.540e+02, 2.160e+02, 3.280e+02,\n",
       "       3.400e+02, 5.580e+02, 3.750e+02, 1.650e+02, 2.410e+02, 6.520e+02,\n",
       "       1.790e+02, 4.100e+02, 7.280e+02, 7.180e+02, 5.350e+02, 6.720e+02,\n",
       "       4.430e+02, 4.580e+02, 6.280e+02, 1.990e+02, 6.550e+02, 4.560e+02,\n",
       "       9.500e+01, 1.810e+02, 8.200e+01, 2.680e+02, 8.300e+01, 3.020e+02,\n",
       "       5.840e+02, 1.260e+02, 6.090e+02, 6.430e+02, 3.610e+02, 4.040e+02,\n",
       "       1.670e+02, 7.300e+01, 5.020e+02, 6.130e+02, 4.230e+02, 5.180e+02,\n",
       "       3.240e+02, 1.760e+02, 3.200e+02, 1.880e+02, 3.600e+02, 4.270e+02,\n",
       "       4.630e+02, 2.530e+02, 9.600e+01, 3.620e+02, 3.340e+02, 3.140e+02,\n",
       "       3.760e+02, 6.300e+02, 7.150e+02, 2.610e+02, 3.160e+02, 5.520e+02,\n",
       "       5.390e+02, 5.090e+02, 6.150e+02, 3.650e+02, 1.900e+02, 3.310e+02,\n",
       "       3.470e+02, 1.390e+02, 5.700e+02, 3.700e+02, 3.570e+02, 3.770e+02,\n",
       "       4.150e+02, 4.090e+02, 8.800e+01, 4.220e+02, 4.470e+02, 7.320e+02,\n",
       "       7.650e+02, 7.450e+02, 3.110e+02, 5.470e+02, 4.310e+02, 4.120e+02,\n",
       "       1.710e+02, 4.050e+02, 4.790e+02, 1.770e+02, 2.980e+03, 2.230e+02,\n",
       "       4.400e+02, 4.780e+02, 4.360e+02, 2.330e+02, 1.840e+02, 2.430e+02,\n",
       "       3.320e+02, 3.330e+02, 4.290e+02, 3.660e+02, 4.570e+02, 4.330e+02,\n",
       "       2.154e+03, 4.340e+02, 5.160e+02, 5.480e+02, 1.547e+03, 1.930e+02,\n",
       "       3.520e+02, 5.320e+02, 5.150e+02, 1.980e+02, 1.185e+03, 2.440e+02,\n",
       "       2.930e+02, 2.960e+02, 2.630e+02, 4.750e+02, 2.080e+02, 2.510e+02,\n",
       "       3.870e+02, 4.020e+02, 3.190e+02, 4.590e+02, 3.130e+02, 3.250e+02,\n",
       "       2.940e+02, 4.950e+02, 2.310e+02, 5.410e+02, 5.400e+02, 3.360e+02,\n",
       "       3.590e+02, 6.210e+02, 5.300e+02, 4.620e+02, 4.130e+02, 7.250e+02,\n",
       "       6.650e+02, 1.740e+02, 3.060e+02, 4.520e+02, 3.010e+02, 6.360e+02,\n",
       "       4.010e+02, 3.820e+02, 4.240e+02, 6.570e+02, 4.480e+02, 4.930e+02,\n",
       "       5.230e+02, 1.890e+02, 1.720e+02, 5.610e+02, 5.830e+02, 6.240e+02,\n",
       "       6.330e+02, 2.660e+02, 1.820e+02, 1.920e+02, 3.530e+02, 3.460e+02,\n",
       "       4.370e+02, 7.170e+02, 2.800e+02, 1.825e+03, 1.000e+00, 6.000e+02,\n",
       "       6.180e+02, 5.050e+02, 5.040e+02, 8.390e+02, 2.520e+02, 5.460e+02,\n",
       "       5.490e+02, 5.260e+02, 4.540e+02, 7.600e+02, 3.390e+02, 4.730e+02,\n",
       "       5.750e+02, 1.660e+02, 6.040e+02, 7.000e+02, 6.030e+02, 5.130e+02,\n",
       "       5.170e+02, 3.430e+02, 8.430e+02, 1.450e+03, 8.500e+02, 9.520e+02,\n",
       "       2.670e+02, 3.230e+02, 4.210e+02, 3.510e+02, 1.003e+03, 3.260e+02,\n",
       "       1.614e+03, 1.551e+03, 2.650e+02, 1.821e+03, 5.290e+02, 3.070e+02,\n",
       "       3.680e+02, 5.770e+02, 2.730e+02, 6.600e+02, 2.700e+02, 3.950e+02,\n",
       "       1.880e+03, 6.450e+02, 3.690e+02, 7.440e+02, 1.723e+03, 2.740e+02,\n",
       "       6.120e+02, 5.200e+02, 3.560e+02, 1.831e+03, 1.940e+02, 1.860e+02,\n",
       "       3.670e+02, 5.430e+02, 4.410e+02, 2.420e+03, 6.050e+02, 2.345e+03,\n",
       "       4.260e+02, 2.900e+02, 6.160e+02, 7.090e+02, 6.510e+02, 6.580e+02,\n",
       "       2.830e+02, 4.170e+02, 5.000e+02, 2.970e+02, 5.850e+02, 2.840e+02,\n",
       "       4.420e+02, 6.880e+02, 1.750e+03, 6.110e+02, 1.390e+03, 7.060e+02,\n",
       "       1.325e+03, 2.980e+02, 5.380e+02, 1.147e+03, 2.582e+03, 2.712e+03,\n",
       "       1.544e+03, 1.563e+03, 3.370e+02, 1.229e+03, 1.271e+03, 2.078e+03,\n",
       "       6.190e+02, 9.090e+02, 9.550e+02, 9.300e+02, 7.350e+02, 3.410e+02,\n",
       "       1.422e+03, 2.780e+02, 2.433e+03, 9.100e+01, 4.510e+02, 1.910e+02,\n",
       "       7.370e+02, 5.110e+02, 7.420e+02, 4.830e+02, 8.260e+02, 7.100e+02,\n",
       "       3.290e+02, 2.880e+02, 5.140e+02, 4.710e+02, 6.470e+02, 4.490e+02,\n",
       "       2.920e+02, 6.660e+02, 5.370e+02, 4.740e+02, 1.870e+02, 4.880e+02,\n",
       "       8.550e+02, 4.640e+02, 5.440e+02, 7.200e+02, 8.080e+02, 1.612e+03,\n",
       "       1.557e+03, 7.010e+02, 5.310e+02, 5.280e+02, 7.830e+02, 9.750e+02,\n",
       "       9.360e+02, 3.720e+02, 3.850e+02, 2.465e+03, 2.427e+03, 1.035e+03,\n",
       "       1.934e+03, 1.037e+03, 1.045e+03, 4.690e+02, 6.250e+02, 7.300e+02,\n",
       "       3.910e+02, 3.940e+02, 4.850e+02, 1.735e+03, 1.745e+03, 5.360e+02,\n",
       "       7.020e+02, 7.050e+02, 5.270e+02, 9.000e+02, 1.855e+03, 1.810e+03,\n",
       "       7.030e+02, 8.360e+02, 7.500e+02, 6.320e+02, 8.190e+02, 1.330e+03,\n",
       "       5.030e+02, 1.342e+03, 5.650e+02, 6.230e+02, 6.690e+02, 7.550e+02,\n",
       "       8.540e+02, 8.200e+02, 9.250e+02, 9.230e+02, 9.070e+02, 3.730e+02,\n",
       "       4.460e+02, 8.020e+02, 1.404e+03, 6.270e+02, 8.880e+02, 7.130e+02,\n",
       "       6.370e+02, 6.750e+02, 9.200e+02, 9.020e+02, 9.030e+02, 5.950e+02,\n",
       "       6.700e+02, 6.860e+02, 7.160e+02, 1.253e+03, 5.570e+02, 9.780e+02,\n",
       "       3.780e+02, 4.180e+02, 1.960e+02, 2.890e+02, 3.900e+02, 7.540e+02,\n",
       "       6.850e+02, 6.350e+02, 2.950e+02, 6.530e+02, 5.800e+02, 5.590e+02,\n",
       "       1.800e+03, 1.550e+03, 8.450e+02, 2.120e+03, 6.220e+02, 1.064e+03,\n",
       "       8.180e+02, 8.370e+02, 6.080e+02, 4.110e+02, 7.040e+02, 4.380e+02,\n",
       "       2.810e+02, 8.520e+02, 8.210e+02, 6.170e+02, 1.940e+03, 3.840e+02,\n",
       "       2.870e+02, 5.060e+02, 8.300e+02, 7.530e+02, 3.451e+03, 9.450e+02,\n",
       "       6.290e+02, 5.010e+02, 4.600e+02, 1.110e+03, 5.860e+02, 8.560e+02,\n",
       "       1.765e+03, 2.942e+03, 1.522e+03, 1.528e+03, 1.982e+03, 7.580e+02,\n",
       "       2.743e+03, 2.746e+03, 4.890e+02, 4.610e+02, 8.490e+02, 1.648e+03,\n",
       "       5.730e+02, 1.051e+03, 7.430e+02, 7.290e+02, 8.720e+02, 3.930e+02,\n",
       "       7.410e+02, 4.980e+02, 1.406e+03, 5.190e+02, 4.760e+02, 5.760e+02,\n",
       "       8.350e+02, 2.860e+02, 7.140e+02, 8.070e+02, 1.250e+03, 2.602e+03,\n",
       "       7.680e+02, 2.655e+03, 3.740e+02, 2.058e+03, 9.040e+02, 8.380e+02,\n",
       "       1.165e+03, 6.490e+02, 7.220e+02, 6.460e+02, 1.710e+03, 7.640e+02,\n",
       "       8.240e+02, 7.590e+02, 5.670e+02, 6.200e+02, 3.710e+02, 6.680e+02,\n",
       "       6.420e+02, 7.850e+02, 8.150e+02, 4.670e+02, 4.320e+02, 4.660e+02,\n",
       "       2.636e+03, 7.190e+02, 7.520e+02, 7.950e+02, 2.990e+02, 4.650e+02,\n",
       "       6.480e+02, 6.900e+02, 2.152e+03, 2.203e+03, 4.860e+02, 3.025e+03,\n",
       "       5.640e+02, 4.680e+02, 7.700e+02, 2.727e+03, 6.380e+02, 1.056e+03,\n",
       "       5.680e+02, 5.660e+02, 2.042e+03, 9.420e+02, 7.480e+02, 4.770e+02,\n",
       "       3.860e+02, 8.440e+02, 2.523e+03, 1.813e+03, 5.210e+02, 2.910e+02,\n",
       "       1.449e+03, 2.820e+02, 1.145e+03, 1.140e+03, 1.235e+03, 1.514e+03,\n",
       "       5.420e+02, 3.960e+02, 2.138e+03, 9.600e+02, 1.018e+03, 8.050e+02,\n",
       "       6.820e+02, 2.422e+03, 1.445e+03, 1.427e+03, 6.970e+02, 7.380e+02,\n",
       "       1.015e+03, 1.000e+03, 8.780e+02, 3.830e+02, 9.500e+02, 1.555e+03,\n",
       "       8.800e+02, 7.630e+02, 1.141e+03, 3.790e+02, 5.080e+02, 7.460e+02,\n",
       "       8.640e+02, 3.970e+02, 9.510e+02, 4.810e+02, 7.750e+02, 1.240e+03,\n",
       "       4.970e+02, 7.340e+02, 6.540e+02, 5.240e+02, 3.245e+03, 3.990e+02,\n",
       "       6.590e+02, 8.470e+02, 5.560e+02, 2.745e+03, 1.219e+03, 6.930e+02,\n",
       "       9.700e+02, 9.110e+02, 7.900e+02, 1.020e+03, 1.010e+03, 2.020e+03,\n",
       "       8.460e+02, 8.290e+02, 9.350e+02, 1.603e+03, 5.900e+02, 8.000e+02,\n",
       "       8.580e+02, 1.222e+03, 2.835e+03, 1.160e+03, 4.840e+02, 8.600e+02,\n",
       "       3.810e+02, 1.425e+03, 1.483e+03, 1.011e+03, 1.019e+03, 2.474e+03,\n",
       "       4.440e+02, 5.620e+02, 7.230e+02, 8.160e+02, 1.234e+03, 1.740e+03,\n",
       "       1.190e+03, 1.225e+03, 1.230e+03, 7.080e+02, 1.458e+03, 5.630e+02,\n",
       "       5.990e+02, 7.260e+02, 6.010e+02, 4.920e+02, 9.370e+02, 1.034e+03,\n",
       "       6.610e+02, 8.120e+02, 4.820e+02, 5.690e+02, 1.205e+03, 8.650e+02,\n",
       "       3.640e+02, 5.790e+02, 5.890e+02, 6.800e+02, 5.600e+02, 1.193e+03,\n",
       "       1.299e+03, 1.201e+03, 2.415e+03, 1.455e+03, 1.470e+03, 1.125e+03,\n",
       "       1.215e+03, 1.109e+03, 8.030e+02, 7.570e+02, 1.350e+03, 1.107e+03,\n",
       "       3.880e+02, 7.390e+02, 1.553e+03, 4.720e+02, 1.633e+03, 7.330e+02,\n",
       "       7.310e+02, 7.240e+02, 1.590e+03, 6.890e+02, 1.853e+03, 7.470e+02,\n",
       "       6.390e+02, 1.545e+03, 1.257e+03, 6.630e+02, 1.370e+03, 1.255e+03,\n",
       "       8.100e+02, 8.420e+02, 6.440e+02, 1.945e+03, 1.939e+03, 9.150e+02,\n",
       "       1.023e+03, 1.005e+03, 5.910e+02, 8.530e+02, 7.980e+02, 7.110e+02,\n",
       "       1.050e+03, 1.055e+03, 1.890e+03, 1.153e+03, 1.210e+03, 6.730e+02,\n",
       "       4.900e+02, 6.620e+02, 9.100e+02, 7.770e+02, 1.343e+03, 6.770e+02,\n",
       "       7.120e+02, 2.546e+03, 1.302e+03, 9.190e+02, 1.811e+03, 1.950e+03,\n",
       "       1.928e+03, 6.410e+02, 6.710e+02, 1.026e+03, 8.750e+02, 2.697e+03,\n",
       "       2.435e+03, 2.520e+03, 7.270e+02, 9.120e+02, 3.317e+03, 6.740e+02,\n",
       "       2.456e+03, 1.100e+03, 1.345e+03, 1.046e+03, 9.900e+02, 1.077e+03,\n",
       "       8.410e+02, 2.455e+03, 1.610e+03, 1.620e+03, 2.445e+03, 2.419e+03,\n",
       "       5.720e+02, 1.007e+03])"
      ]
     },
     "execution_count": 25,
     "metadata": {},
     "output_type": "execute_result"
    }
   ],
   "source": [
    "df_train['target'].unique()"
   ]
  },
  {
   "cell_type": "code",
   "execution_count": 26,
   "id": "d3bb2845",
   "metadata": {},
   "outputs": [
    {
     "data": {
      "text/plain": [
       "0.0       38168\n",
       "10.0       3038\n",
       "15.0       2680\n",
       "5.0        2406\n",
       "20.0       2310\n",
       "          ...  \n",
       "904.0         1\n",
       "2058.0        1\n",
       "2655.0        1\n",
       "2602.0        1\n",
       "1007.0        1\n",
       "Name: target, Length: 968, dtype: int64"
      ]
     },
     "execution_count": 26,
     "metadata": {},
     "output_type": "execute_result"
    }
   ],
   "source": [
    "df_train['target'].value_counts()\n"
   ]
  },
  {
   "cell_type": "code",
   "execution_count": 36,
   "id": "fd2f45f8",
   "metadata": {},
   "outputs": [
    {
     "data": {
      "text/html": [
       "<div>\n",
       "<style scoped>\n",
       "    .dataframe tbody tr th:only-of-type {\n",
       "        vertical-align: middle;\n",
       "    }\n",
       "\n",
       "    .dataframe tbody tr th {\n",
       "        vertical-align: top;\n",
       "    }\n",
       "\n",
       "    .dataframe thead th {\n",
       "        text-align: right;\n",
       "    }\n",
       "</style>\n",
       "<table border=\"1\" class=\"dataframe\">\n",
       "  <thead>\n",
       "    <tr style=\"text-align: right;\">\n",
       "      <th></th>\n",
       "      <th>DATOP</th>\n",
       "      <th>DATOP</th>\n",
       "    </tr>\n",
       "  </thead>\n",
       "  <tbody>\n",
       "    <tr>\n",
       "      <th>0</th>\n",
       "      <td>2016-01-03</td>\n",
       "      <td>2016-01-03</td>\n",
       "    </tr>\n",
       "    <tr>\n",
       "      <th>1</th>\n",
       "      <td>2016-01-13</td>\n",
       "      <td>2016-01-13</td>\n",
       "    </tr>\n",
       "    <tr>\n",
       "      <th>2</th>\n",
       "      <td>2016-01-16</td>\n",
       "      <td>2016-01-16</td>\n",
       "    </tr>\n",
       "    <tr>\n",
       "      <th>3</th>\n",
       "      <td>2016-01-17</td>\n",
       "      <td>2016-01-17</td>\n",
       "    </tr>\n",
       "    <tr>\n",
       "      <th>4</th>\n",
       "      <td>2016-01-17</td>\n",
       "      <td>2016-01-17</td>\n",
       "    </tr>\n",
       "  </tbody>\n",
       "</table>\n",
       "</div>"
      ],
      "text/plain": [
       "       DATOP      DATOP\n",
       "0 2016-01-03 2016-01-03\n",
       "1 2016-01-13 2016-01-13\n",
       "2 2016-01-16 2016-01-16\n",
       "3 2016-01-17 2016-01-17\n",
       "4 2016-01-17 2016-01-17"
      ]
     },
     "execution_count": 36,
     "metadata": {},
     "output_type": "execute_result"
    }
   ],
   "source": [
    "# now let's parse the dates, currently coded as strings, into datetime format\n",
    "\n",
    "df_train['DATOP'] = pd.to_datetime(df_train.DATOP)\n",
    "\n",
    "\n",
    "df_train[['DATOP', 'DATOP']].head()"
   ]
  },
  {
   "cell_type": "code",
   "execution_count": 44,
   "id": "de9ab43a",
   "metadata": {},
   "outputs": [],
   "source": [
    "# Create features for year, month, day, hour, and minute\n",
    "df_train['year_DATOP'] = df_train['DATOP'].dt.year\n",
    "df_train['month_DATOP'] = df_train['DATOP'].dt.month\n",
    "df_train['day_DATOP'] = df_train['DATOP'].dt.day"
   ]
  },
  {
   "cell_type": "code",
   "execution_count": 45,
   "id": "5d2245d6",
   "metadata": {},
   "outputs": [
    {
     "data": {
      "text/html": [
       "<div>\n",
       "<style scoped>\n",
       "    .dataframe tbody tr th:only-of-type {\n",
       "        vertical-align: middle;\n",
       "    }\n",
       "\n",
       "    .dataframe tbody tr th {\n",
       "        vertical-align: top;\n",
       "    }\n",
       "\n",
       "    .dataframe thead th {\n",
       "        text-align: right;\n",
       "    }\n",
       "</style>\n",
       "<table border=\"1\" class=\"dataframe\">\n",
       "  <thead>\n",
       "    <tr style=\"text-align: right;\">\n",
       "      <th></th>\n",
       "      <th>ID</th>\n",
       "      <th>DATOP</th>\n",
       "      <th>FLTID</th>\n",
       "      <th>DEPSTN</th>\n",
       "      <th>ARRSTN</th>\n",
       "      <th>STD</th>\n",
       "      <th>STA</th>\n",
       "      <th>STATUS</th>\n",
       "      <th>AC</th>\n",
       "      <th>target</th>\n",
       "      <th>year</th>\n",
       "      <th>month</th>\n",
       "      <th>day</th>\n",
       "      <th>year_DATOP</th>\n",
       "      <th>month_DATOP</th>\n",
       "      <th>day_DATOP</th>\n",
       "    </tr>\n",
       "  </thead>\n",
       "  <tbody>\n",
       "    <tr>\n",
       "      <th>0</th>\n",
       "      <td>train_id_0</td>\n",
       "      <td>2016-01-03</td>\n",
       "      <td>TU 0712</td>\n",
       "      <td>CMN</td>\n",
       "      <td>TUN</td>\n",
       "      <td>2016-01-03 10:30:00</td>\n",
       "      <td>2016-01-03 12.55.00</td>\n",
       "      <td>ATA</td>\n",
       "      <td>TU 32AIMN</td>\n",
       "      <td>260.0</td>\n",
       "      <td>2016</td>\n",
       "      <td>1</td>\n",
       "      <td>3</td>\n",
       "      <td>2016</td>\n",
       "      <td>1</td>\n",
       "      <td>3</td>\n",
       "    </tr>\n",
       "    <tr>\n",
       "      <th>1</th>\n",
       "      <td>train_id_1</td>\n",
       "      <td>2016-01-13</td>\n",
       "      <td>TU 0757</td>\n",
       "      <td>MXP</td>\n",
       "      <td>TUN</td>\n",
       "      <td>2016-01-13 15:05:00</td>\n",
       "      <td>2016-01-13 16.55.00</td>\n",
       "      <td>ATA</td>\n",
       "      <td>TU 31BIMO</td>\n",
       "      <td>20.0</td>\n",
       "      <td>2016</td>\n",
       "      <td>1</td>\n",
       "      <td>13</td>\n",
       "      <td>2016</td>\n",
       "      <td>1</td>\n",
       "      <td>13</td>\n",
       "    </tr>\n",
       "    <tr>\n",
       "      <th>2</th>\n",
       "      <td>train_id_2</td>\n",
       "      <td>2016-01-16</td>\n",
       "      <td>TU 0214</td>\n",
       "      <td>TUN</td>\n",
       "      <td>IST</td>\n",
       "      <td>2016-01-16 04:10:00</td>\n",
       "      <td>2016-01-16 06.45.00</td>\n",
       "      <td>ATA</td>\n",
       "      <td>TU 32AIMN</td>\n",
       "      <td>0.0</td>\n",
       "      <td>2016</td>\n",
       "      <td>1</td>\n",
       "      <td>16</td>\n",
       "      <td>2016</td>\n",
       "      <td>1</td>\n",
       "      <td>16</td>\n",
       "    </tr>\n",
       "    <tr>\n",
       "      <th>3</th>\n",
       "      <td>train_id_3</td>\n",
       "      <td>2016-01-17</td>\n",
       "      <td>TU 0480</td>\n",
       "      <td>DJE</td>\n",
       "      <td>NTE</td>\n",
       "      <td>2016-01-17 14:10:00</td>\n",
       "      <td>2016-01-17 17.00.00</td>\n",
       "      <td>ATA</td>\n",
       "      <td>TU 736IOK</td>\n",
       "      <td>0.0</td>\n",
       "      <td>2016</td>\n",
       "      <td>1</td>\n",
       "      <td>17</td>\n",
       "      <td>2016</td>\n",
       "      <td>1</td>\n",
       "      <td>17</td>\n",
       "    </tr>\n",
       "    <tr>\n",
       "      <th>4</th>\n",
       "      <td>train_id_4</td>\n",
       "      <td>2016-01-17</td>\n",
       "      <td>TU 0338</td>\n",
       "      <td>TUN</td>\n",
       "      <td>ALG</td>\n",
       "      <td>2016-01-17 14:30:00</td>\n",
       "      <td>2016-01-17 15.50.00</td>\n",
       "      <td>ATA</td>\n",
       "      <td>TU 320IMU</td>\n",
       "      <td>22.0</td>\n",
       "      <td>2016</td>\n",
       "      <td>1</td>\n",
       "      <td>17</td>\n",
       "      <td>2016</td>\n",
       "      <td>1</td>\n",
       "      <td>17</td>\n",
       "    </tr>\n",
       "  </tbody>\n",
       "</table>\n",
       "</div>"
      ],
      "text/plain": [
       "           ID      DATOP     FLTID DEPSTN ARRSTN                 STD  \\\n",
       "0  train_id_0 2016-01-03  TU 0712     CMN    TUN 2016-01-03 10:30:00   \n",
       "1  train_id_1 2016-01-13  TU 0757     MXP    TUN 2016-01-13 15:05:00   \n",
       "2  train_id_2 2016-01-16  TU 0214     TUN    IST 2016-01-16 04:10:00   \n",
       "3  train_id_3 2016-01-17  TU 0480     DJE    NTE 2016-01-17 14:10:00   \n",
       "4  train_id_4 2016-01-17  TU 0338     TUN    ALG 2016-01-17 14:30:00   \n",
       "\n",
       "                   STA STATUS         AC  target  year  month  day  \\\n",
       "0  2016-01-03 12.55.00    ATA  TU 32AIMN   260.0  2016      1    3   \n",
       "1  2016-01-13 16.55.00    ATA  TU 31BIMO    20.0  2016      1   13   \n",
       "2  2016-01-16 06.45.00    ATA  TU 32AIMN     0.0  2016      1   16   \n",
       "3  2016-01-17 17.00.00    ATA  TU 736IOK     0.0  2016      1   17   \n",
       "4  2016-01-17 15.50.00    ATA  TU 320IMU    22.0  2016      1   17   \n",
       "\n",
       "   year_DATOP  month_DATOP  day_DATOP  \n",
       "0        2016            1          3  \n",
       "1        2016            1         13  \n",
       "2        2016            1         16  \n",
       "3        2016            1         17  \n",
       "4        2016            1         17  "
      ]
     },
     "execution_count": 45,
     "metadata": {},
     "output_type": "execute_result"
    }
   ],
   "source": [
    "df_train.head()"
   ]
  },
  {
   "cell_type": "code",
   "execution_count": 46,
   "id": "7a8e67e9",
   "metadata": {},
   "outputs": [
    {
     "data": {
      "text/plain": [
       "array([2016, 2017, 2018], dtype=int64)"
      ]
     },
     "execution_count": 46,
     "metadata": {},
     "output_type": "execute_result"
    }
   ],
   "source": [
    "df_train['year_DATOP'].unique()"
   ]
  },
  {
   "cell_type": "code",
   "execution_count": 47,
   "id": "3a0922dc",
   "metadata": {},
   "outputs": [
    {
     "data": {
      "text/plain": [
       "2018    37113\n",
       "2017    36448\n",
       "2016    34272\n",
       "Name: year_DATOP, dtype: int64"
      ]
     },
     "execution_count": 47,
     "metadata": {},
     "output_type": "execute_result"
    }
   ],
   "source": [
    "df_train['year_DATOP'].value_counts()"
   ]
  },
  {
   "cell_type": "code",
   "execution_count": 48,
   "id": "2432ca2b",
   "metadata": {},
   "outputs": [
    {
     "data": {
      "text/plain": [
       "<AxesSubplot:xlabel='year_DATOP', ylabel='count'>"
      ]
     },
     "execution_count": 48,
     "metadata": {},
     "output_type": "execute_result"
    },
    {
     "data": {
      "image/png": "[encoded data removed]",
      "text/plain": [
       "<Figure size 576x396 with 1 Axes>"
      ]
     },
     "metadata": {},
     "output_type": "display_data"
    }
   ],
   "source": [
    "sns.countplot(x=\"year_DATOP\", data=df_train)"
   ]
  },
  {
   "cell_type": "code",
   "execution_count": 49,
   "id": "de5812d6",
   "metadata": {},
   "outputs": [
    {
     "data": {
      "text/plain": [
       "<AxesSubplot:ylabel='year_DATOP'>"
      ]
     },
     "execution_count": 49,
     "metadata": {},
     "output_type": "execute_result"
    },
    {
     "data": {
      "image/png": "[encoded data removed]",
      "text/plain": [
       "<Figure size 576x396 with 1 Axes>"
      ]
     },
     "metadata": {},
     "output_type": "display_data"
    }
   ],
   "source": [
    "df_train['year_DATOP'].value_counts().plot(kind='pie',autopct='%1.1f%%')"
   ]
  },
  {
   "cell_type": "code",
   "execution_count": 50,
   "id": "17ed1424",
   "metadata": {},
   "outputs": [
    {
     "data": {
      "text/plain": [
       "array([ 1,  2,  3,  4,  5,  6,  7,  8,  9, 10, 11, 12], dtype=int64)"
      ]
     },
     "execution_count": 50,
     "metadata": {},
     "output_type": "execute_result"
    }
   ],
   "source": [
    "df_train['month_DATOP'].unique()"
   ]
  },
  {
   "cell_type": "code",
   "execution_count": 51,
   "id": "8f81d9d0",
   "metadata": {},
   "outputs": [
    {
     "data": {
      "text/plain": [
       "8     13208\n",
       "7     12226\n",
       "6      9764\n",
       "4      9621\n",
       "10     9466\n",
       "3      8994\n",
       "12     8822\n",
       "1      8640\n",
       "11     7726\n",
       "9      7417\n",
       "5      6786\n",
       "2      5163\n",
       "Name: month_DATOP, dtype: int64"
      ]
     },
     "execution_count": 51,
     "metadata": {},
     "output_type": "execute_result"
    }
   ],
   "source": [
    "df_train['month_DATOP'].value_counts()"
   ]
  },
  {
   "cell_type": "code",
   "execution_count": 52,
   "id": "6d42d992",
   "metadata": {},
   "outputs": [
    {
     "data": {
      "text/plain": [
       "<AxesSubplot:xlabel='month_DATOP', ylabel='count'>"
      ]
     },
     "execution_count": 52,
     "metadata": {},
     "output_type": "execute_result"
    },
    {
     "data": {
      "image/png": "[encoded data removed]",
      "text/plain": [
       "<Figure size 576x396 with 1 Axes>"
      ]
     },
     "metadata": {},
     "output_type": "display_data"
    }
   ],
   "source": [
    "sns.countplot(x=\"month_DATOP\", data=df_train)"
   ]
  },
  {
   "cell_type": "code",
   "execution_count": 54,
   "id": "c2f35dd5",
   "metadata": {},
   "outputs": [
    {
     "data": {
      "text/plain": [
       "<AxesSubplot:ylabel='month_DATOP'>"
      ]
     },
     "execution_count": 54,
     "metadata": {},
     "output_type": "execute_result"
    },
    {
     "data": {
      "image/png": "[encoded data removed]",
      "text/plain": [
       "<Figure size 576x396 with 1 Axes>"
      ]
     },
     "metadata": {},
     "output_type": "display_data"
    }
   ],
   "source": [
    "df_train['month_DATOP'].value_counts().plot(kind='pie',autopct='%1.1f%%')"
   ]
  },
  {
   "cell_type": "code",
   "execution_count": null,
   "id": "47c075ea",
   "metadata": {},
   "outputs": [],
   "source": []
  }
 ],
 "metadata": {
  "kernelspec": {
   "display_name": "Python 3 (ipykernel)",
   "language": "python",
   "name": "python3"
  },
  "language_info": {
   "codemirror_mode": {
    "name": "ipython",
    "version": 3
   },
   "file_extension": ".py",
   "mimetype": "text/x-python",
   "name": "python",
   "nbconvert_exporter": "python",
   "pygments_lexer": "ipython3",
   "version": "3.9.7"
  }
 },
 "nbformat": 4,
 "nbformat_minor": 5
}
